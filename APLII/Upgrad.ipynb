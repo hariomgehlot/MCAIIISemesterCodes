{
 "cells": [
  {
   "cell_type": "code",
   "execution_count": 4,
   "source": [
    "import numpy as np\r\n",
    "import requests\r\n",
    "import pandas as pd \r\n",
    "import matplotlib.pyplot as plt\r\n"
   ],
   "outputs": [],
   "metadata": {}
  },
  {
   "cell_type": "code",
   "execution_count": null,
   "source": [],
   "outputs": [],
   "metadata": {}
  },
  {
   "cell_type": "code",
   "execution_count": null,
   "source": [
    "def get_data():\r\n",
    "     url = \"https://corona-virus-world-and-india-data.p.rapidapi.com/api_india\"\r\n",
    "\r\n",
    "\r\n",
    "     headers = {\r\n",
    "     'x-rapidapi-key': \"c2d96daf15mshff016f7faac1f93p1d399cjsn0e7e7622dfc7\",\r\n",
    "     'x-rapidapi-host': \"corona-virus-world-and-india-data.p.rapidapi.com\"\r\n",
    "     }\r\n",
    "\r\n",
    "     return requests.request(\"GET\", url, headers=headers)\r\n",
    "\r\n",
    "def statewise(request):\r\n",
    "     api_response =get_data()\r\n",
    "     json = api_response.json()\r\n",
    "\r\n",
    "     df = pd.DataFrame(json)\r\n",
    "\r\n",
    "     df2= df.T\r\n",
    "\r\n",
    "     df2.columns\r\n",
    "\r\n",
    "     df2 = df2.drop(['active', 'confirmed', 'deaths', 'deltaconfirmed', 'deltadeaths',\r\n",
    "       'deltarecovered', 'lastupdatedtime', 'migratedother', 'recovered',\r\n",
    "       'state', 'statecode', 'statenotes', 'State Unassigned'], axis=1)\r\n",
    "\r\n",
    "     df2.reset_index(drop=True, inplace=False)\r\n",
    "     states = list(df2.columns)\r\n",
    "     active_X = []\r\n",
    "     confirmed_X = []\r\n",
    "     death_X=[]\r\n",
    "   \r\n",
    "     for state in states:\r\n",
    "          active_X.append(int(df2[state][2]['active']))\r\n",
    "          confirmed_X.append(int(df2[state][2]['confirmed']))\r\n",
    "          death_X.append(int(df2[state][2]['deaths']))\r\n",
    "     \r\n",
    "     aX = plt.figure(figsize=(12,5))\r\n",
    "     plt.bar(states, active_X)\r\n",
    "     plt.xlabel('States')\r\n",
    "     plt.ylabel('Active cases')\r\n",
    "     plt.title(\"Active Cases Statewise\")\r\n",
    "     plt.xticks(rotation =75)\r\n",
    "     plt.savefig(\"covinfo\\\\static\\\\active.png\")\r\n",
    "\r\n",
    "\r\n",
    "     cX = plt.figure(figsize=(12,5))\r\n",
    "     plt.bar(states, confirmed_X)\r\n",
    "     plt.xlabel('States')\r\n",
    "     plt.ylabel('Confirmed cases')\r\n",
    "     plt.title(\"Confirmed Cases Statewise\")\r\n",
    "     plt.xticks(rotation =90)\r\n",
    "\r\n",
    "\r\n",
    "     dX =plt.figure(figsize=(12,5))\r\n",
    "     plt.bar(states, death_X)\r\n",
    "     plt.xlabel('States')\r\n",
    "     plt.ylabel('Death cases')\r\n",
    "     plt.title(\"Death Cases Statewise\")\r\n",
    "     plt.xticks(rotation =90)\r\n",
    "     plt.yticks(rotation =30)\r\n",
    "\r\n",
    "\r\n",
    "\r\n",
    "\r\n",
    "     html_fig_active = mpld3.fig_to_html(aX,template_type=\"general\")\r\n",
    "  \r\n",
    "     html_fig_confirmed = mpld3.fig_to_html(cX,template_type=\"general\")\r\n",
    "     html_fig_deaths = mpld3.fig_to_html(dX,template_type=\"general\")\r\n",
    "\r\n",
    "     plt.close(html_fig_active)\r\n",
    "     plt.close(html_fig_confirmed)\r\n",
    "     plt.close(html_fig_deaths)\r\n",
    "     return render(request, \"state.html\", {'active_page' : 'state.html', 'div_figureActive' : html_fig_active,\"div_figureConfirmed\":html_fig_confirmed,\"div_figureDeath\":html_fig_deaths})\r\n",
    "\r\n"
   ],
   "outputs": [],
   "metadata": {}
  }
 ],
 "metadata": {
  "orig_nbformat": 4,
  "language_info": {
   "name": "python",
   "version": "3.9.6",
   "mimetype": "text/x-python",
   "codemirror_mode": {
    "name": "ipython",
    "version": 3
   },
   "pygments_lexer": "ipython3",
   "nbconvert_exporter": "python",
   "file_extension": ".py"
  },
  "kernelspec": {
   "name": "python3",
   "display_name": "Python 3.9.6 64-bit"
  },
  "interpreter": {
   "hash": "daebb6d60f4f3e8ad2c668f168acef0dcea5cdc0e214bcc4d394ef2164512d20"
  }
 },
 "nbformat": 4,
 "nbformat_minor": 2
}