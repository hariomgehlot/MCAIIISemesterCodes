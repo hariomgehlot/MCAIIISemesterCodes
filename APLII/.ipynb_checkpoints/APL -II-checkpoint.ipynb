{
 "cells": [
  {
   "cell_type": "code",
   "execution_count": 4,
   "id": "4f662150",
   "metadata": {},
   "outputs": [],
   "source": [
    "import numpy as np \n",
    "import pandas as pd"
   ]
  },
  {
   "cell_type": "code",
   "execution_count": null,
   "id": "17419987",
   "metadata": {},
   "outputs": [],
   "source": [
    "#Program 1  \"Create a 3 x 3 numpy array of all True (Boolean)\"\n",
    "arr3x3 = np.ones((3,3),dtype=bool)\n",
    "print(arr3x3)"
   ]
  },
  {
   "cell_type": "code",
   "execution_count": null,
   "id": "0cf16888",
   "metadata": {},
   "outputs": [],
   "source": [
    "#Program 2 \"Get the common items from arr1 and arr2\"\n",
    "\n",
    "arr1 = np.array([1,2,4,6,8,95,3])\n",
    "arr2 = np.array([5,78,6,1,7,5,3])\n",
    "\n",
    "intersection = np.intersect1d(arr1,arr2)\n",
    "print(\"Intesection : \",intersection)\n"
   ]
  },
  {
   "cell_type": "code",
   "execution_count": null,
   "id": "ac079717",
   "metadata": {},
   "outputs": [],
   "source": [
    "#Program 3 \"Swap Rows 1 and 2 in the array\"\n",
    "arr2D = np.random.randint(1,10,size=(3,5))\n",
    "print(\"Before swapping 0th and 1st row \\n\",arr2D)\n",
    "arr2D[[0,1]] = arr2D[[1,0]]\n",
    "print(\"After swapping 0th and 1st row : \\n\",arr2D)"
   ]
  },
  {
   "cell_type": "code",
   "execution_count": null,
   "id": "41f234f1",
   "metadata": {},
   "outputs": [],
   "source": [
    "#Program 4 \" Reverse the columns of a 2D array \"\n",
    "import numpy as np\n",
    "arr=np.array([2,4,889,66,8,10,12])\n",
    "print(\"Array before Reversing  : \\n\",arr)\n",
    "print(arr)\n",
    "rev=np.flip(arr)\n",
    "print(\"Array after swapping columns : \\n\",rev)"
   ]
  },
  {
   "cell_type": "code",
   "execution_count": null,
   "id": "9a98cde0",
   "metadata": {},
   "outputs": [],
   "source": [
    "#program 5 (show only 3 decimal places numpy array )\n",
    "num=np.round(np.random.normal(0.121,4.567,10),3)\n",
    "print(num)"
   ]
  },
  {
   "cell_type": "code",
   "execution_count": null,
   "id": "7f6aa663",
   "metadata": {},
   "outputs": [],
   "source": [
    "#Program 6 \"Compute Mean Median standard deviation of an array\"\n",
    "print(\"Mean of:\",arr, \"is\",np.mean(arr))\n",
    "print(\"Median of \",arr,\" is \", np.median(arr))\n",
    "print(\"Standard deviation of \",arr,\" is \", np.std(arr))\n"
   ]
  },
  {
   "cell_type": "code",
   "execution_count": 6,
   "id": "8773a3ce",
   "metadata": {},
   "outputs": [
    {
     "ename": "SyntaxError",
     "evalue": "positional argument follows keyword argument (Temp/ipykernel_5436/1275795577.py, line 1)",
     "output_type": "error",
     "traceback": [
      "\u001b[1;36m  File \u001b[1;32m\"C:\\Users\\om\\AppData\\Local\\Temp/ipykernel_5436/1275795577.py\"\u001b[1;36m, line \u001b[1;32m1\u001b[0m\n\u001b[1;33m    users = pd.read_csv(r\"C:\\Users\\om\\Downloads\\username.csv\",sep=\";\",index_col)\u001b[0m\n\u001b[1;37m                                                                               ^\u001b[0m\n\u001b[1;31mSyntaxError\u001b[0m\u001b[1;31m:\u001b[0m positional argument follows keyword argument\n"
     ]
    }
   ],
   "source": [
    "users = pd.read_csv(r\"C:\\Users\\om\\Downloads\\username.csv\",sep=\";\",index_col)\n",
    "print(users)"
   ]
  },
  {
   "cell_type": "code",
   "execution_count": 17,
   "id": "4cc954c4",
   "metadata": {},
   "outputs": [
    {
     "ename": "TypeError",
     "evalue": "next expected at least 1 argument, got 0",
     "output_type": "error",
     "traceback": [
      "\u001b[1;31m---------------------------------------------------------------------------\u001b[0m",
      "\u001b[1;31mTypeError\u001b[0m                                 Traceback (most recent call last)",
      "\u001b[1;32m~\\AppData\\Local\\Temp/ipykernel_5436/4010027319.py\u001b[0m in \u001b[0;36m<module>\u001b[1;34m\u001b[0m\n\u001b[0;32m     21\u001b[0m \u001b[1;32mwhile\u001b[0m \u001b[1;32mTrue\u001b[0m\u001b[1;33m:\u001b[0m\u001b[1;33m\u001b[0m\u001b[1;33m\u001b[0m\u001b[0m\n\u001b[0;32m     22\u001b[0m     \u001b[1;32mtry\u001b[0m\u001b[1;33m:\u001b[0m\u001b[1;33m\u001b[0m\u001b[1;33m\u001b[0m\u001b[0m\n\u001b[1;32m---> 23\u001b[1;33m         \u001b[0mnext\u001b[0m\u001b[1;33m(\u001b[0m\u001b[1;33m)\u001b[0m\u001b[1;33m\u001b[0m\u001b[1;33m\u001b[0m\u001b[0m\n\u001b[0m\u001b[0;32m     24\u001b[0m         \u001b[0mcountry\u001b[0m \u001b[1;33m=\u001b[0m \u001b[0mnext\u001b[0m\u001b[1;33m(\u001b[0m\u001b[0mdata_iterator\u001b[0m\u001b[1;33m)\u001b[0m\u001b[1;33m.\u001b[0m\u001b[0mtext\u001b[0m\u001b[1;33m\u001b[0m\u001b[1;33m\u001b[0m\u001b[0m\n\u001b[0;32m     25\u001b[0m         \u001b[0mconfirmed\u001b[0m \u001b[1;33m=\u001b[0m \u001b[0mnext\u001b[0m\u001b[1;33m(\u001b[0m\u001b[0mdata_iterator\u001b[0m\u001b[1;33m)\u001b[0m\u001b[1;33m.\u001b[0m\u001b[0mtext\u001b[0m\u001b[1;33m\u001b[0m\u001b[1;33m\u001b[0m\u001b[0m\n",
      "\u001b[1;31mTypeError\u001b[0m: next expected at least 1 argument, got 0"
     ]
    }
   ],
   "source": [
    "# importing modules\n",
    "import requests\n",
    "from bs4 import BeautifulSoup\n",
    "\n",
    "# URL for scrapping data\n",
    "url = 'https://www.worldometers.info/coronavirus/'\n",
    "\n",
    "# get URL html\n",
    "page = requests.get(url)\n",
    "soup = BeautifulSoup(page.text, 'html.parser')\n",
    "\n",
    "data = []\n",
    "\n",
    "# soup.find_all('td') will scrape every\n",
    "# element in the url's table\n",
    "data_iterator = iter(soup.find_all('td'))\n",
    "\n",
    "# data_iterator is the iterator of the table\n",
    "# This loop will keep repeating till there is\n",
    "# data available in the iterator\n",
    "while True:\n",
    "    try:\n",
    "        next(data_iterator)\n",
    "        country = next(data_iterator).text\n",
    "        confirmed = next(data_iterator).text\n",
    "        deaths = next(data_iterator).text\n",
    "        continent = next(data_iterator).text\n",
    "        \n",
    "        data.append((\n",
    "            country,\n",
    "            confirmed.replace(', ', ''),\n",
    "            deaths.replace(', ', ''),\n",
    "            continent\n",
    "        ))\n",
    "\n",
    "\n",
    "    except StopIteration:\n",
    "        break\n",
    "\n",
    "\n",
    "data.sort(key = lambda row: row[1], reverse = True)\n",
    "print(data)"
   ]
  },
  {
   "cell_type": "code",
   "execution_count": null,
   "id": "5f01b41d",
   "metadata": {},
   "outputs": [],
   "source": []
  }
 ],
 "metadata": {
  "interpreter": {
   "hash": "daebb6d60f4f3e8ad2c668f168acef0dcea5cdc0e214bcc4d394ef2164512d20"
  },
  "kernelspec": {
   "display_name": "Python 3 (ipykernel)",
   "language": "python",
   "name": "python3"
  },
  "language_info": {
   "codemirror_mode": {
    "name": "ipython",
    "version": 3
   },
   "file_extension": ".py",
   "mimetype": "text/x-python",
   "name": "python",
   "nbconvert_exporter": "python",
   "pygments_lexer": "ipython3",
   "version": "3.9.6"
  }
 },
 "nbformat": 4,
 "nbformat_minor": 5
}
