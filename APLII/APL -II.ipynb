{
 "cells": [
  {
   "cell_type": "code",
   "execution_count": 1,
   "metadata": {},
   "outputs": [],
   "source": [
    "import numpy as np \n",
    "import pandas as pd\n",
    "import matplotlib.pyplot as plt"
   ]
  },
  {
   "cell_type": "code",
   "execution_count": 2,
   "metadata": {},
   "outputs": [
    {
     "name": "stdout",
     "output_type": "stream",
     "text": [
      "[[ True  True  True]\n",
      " [ True  True  True]\n",
      " [ True  True  True]]\n"
     ]
    }
   ],
   "source": [
    "#Program 1  \"Create a 3 x 3 numpy array of all True (Boolean)\"\n",
    "arr3x3 = np.ones((3,3),dtype=bool)\n",
    "print(arr3x3)"
   ]
  },
  {
   "cell_type": "code",
   "execution_count": 3,
   "metadata": {},
   "outputs": [
    {
     "name": "stdout",
     "output_type": "stream",
     "text": [
      "Intesection :  [1 3 6]\n"
     ]
    }
   ],
   "source": [
    "#Program 2 \"Get the common items from arr1 and arr2\"\n",
    "\n",
    "arr1 = np.array([1,2,4,6,8,95,3])\n",
    "arr2 = np.array([5,78,6,1,7,5,3])\n",
    "\n",
    "intersection = np.intersect1d(arr1,arr2)\n",
    "print(\"Intesection : \",intersection)\n"
   ]
  },
  {
   "cell_type": "code",
   "execution_count": 4,
   "metadata": {},
   "outputs": [
    {
     "name": "stdout",
     "output_type": "stream",
     "text": [
      "Before swapping 0th and 1st row \n",
      " [[5 9 6 8 9]\n",
      " [9 9 4 8 8]\n",
      " [1 9 1 9 3]]\n",
      "After swapping 0th and 1st row : \n",
      " [[9 9 4 8 8]\n",
      " [5 9 6 8 9]\n",
      " [1 9 1 9 3]]\n"
     ]
    }
   ],
   "source": [
    "#Program 3 \"Swap Rows 1 and 2 in the array\"\n",
    "arr2D = np.random.randint(1,10,size=(3,5))\n",
    "print(\"Before swapping 0th and 1st row \\n\",arr2D)\n",
    "arr2D[[0,1]] = arr2D[[1,0]]\n",
    "print(\"After swapping 0th and 1st row : \\n\",arr2D)"
   ]
  },
  {
   "cell_type": "code",
   "execution_count": 5,
   "metadata": {},
   "outputs": [
    {
     "name": "stdout",
     "output_type": "stream",
     "text": [
      "Array before Reversing  : \n",
      " [  2   4 889  66   8  10  12]\n",
      "[  2   4 889  66   8  10  12]\n",
      "Array after swapping columns : \n",
      " [ 12  10   8  66 889   4   2]\n"
     ]
    }
   ],
   "source": [
    "#Program 4 \" Reverse the columns of a 2D array \"\n",
    "import numpy as np\n",
    "arr=np.array([2,4,889,66,8,10,12])\n",
    "print(\"Array before Reversing  : \\n\",arr)\n",
    "print(arr)\n",
    "rev=np.flip(arr)\n",
    "print(\"Array after swapping columns : \\n\",rev)"
   ]
  },
  {
   "cell_type": "code",
   "execution_count": 6,
   "metadata": {},
   "outputs": [
    {
     "name": "stdout",
     "output_type": "stream",
     "text": [
      "[-1.405  2.829  4.236  3.92   4.194  8.448  4.058 -7.117 -3.543 -7.3  ]\n"
     ]
    }
   ],
   "source": [
    "#program 5 (show only 3 decimal places numpy array )\n",
    "num=np.round(np.random.normal(0.121,4.567,10),3)\n",
    "print(num)"
   ]
  },
  {
   "cell_type": "code",
   "execution_count": 7,
   "metadata": {},
   "outputs": [
    {
     "name": "stdout",
     "output_type": "stream",
     "text": [
      "Mean of: [  2   4 889  66   8  10  12] is 141.57142857142858\n",
      "Median of  [  2   4 889  66   8  10  12]  is  10.0\n",
      "Standard deviation of  [  2   4 889  66   8  10  12]  is  305.8262144901705\n"
     ]
    }
   ],
   "source": [
    "#Program 6 \"Compute Mean Median standard deviation of an array\"\n",
    "print(\"Mean of:\",arr, \"is\",np.mean(arr))\n",
    "print(\"Median of \",arr,\" is \", np.median(arr))\n",
    "print(\"Standard deviation of \",arr,\" is \", np.std(arr))\n"
   ]
  },
  {
   "cell_type": "code",
   "execution_count": 8,
   "metadata": {},
   "outputs": [
    {
     "name": "stdout",
     "output_type": "stream",
     "text": [
      "0     G\n",
      "1     E\n",
      "2     E\n",
      "3     K\n",
      "4     S\n",
      "5     F\n",
      "6     O\n",
      "7     R\n",
      "8     G\n",
      "9     E\n",
      "10    E\n",
      "11    K\n",
      "12    S\n",
      "dtype: object\n",
      "G    2\n",
      "E    4\n",
      "K    2\n",
      "S    2\n",
      "F    1\n",
      "O    1\n",
      "R    1\n",
      "dtype: int64\n",
      "0     G\n",
      "1     E\n",
      "2     E\n",
      "3     K\n",
      "4     S\n",
      "5     F\n",
      "6     O\n",
      "7     R\n",
      "8     G\n",
      "9     E\n",
      "10    E\n",
      "11    K\n",
      "12    S\n",
      "dtype: object\n"
     ]
    }
   ],
   "source": [
    "# Program 7 :  Create pandas series from different data types like list, numpy array and dictionary.\n",
    "# simple list\n",
    "lst = ['j','e','i','s','n','q',\n",
    "       'p','w','o','l','v','c','a']\n",
    "  \n",
    "# forming series\n",
    "s = pd.Series(lst)\n",
    "print(s)\n",
    "\n",
    "# simple dict\n",
    "dct = {'q':2,'e':4,'y':2,'i':2,\n",
    "       'f':1,'g':1,'s':1}\n",
    "  \n",
    "# forming series\n",
    "s = pd.Series(dct)\n",
    "  \n",
    "# output\n",
    "print(s)\n",
    "\n",
    "\n",
    "# numpy array\n",
    "arr = np.array(['H','A','R','I','O','M','G','E','H','L','O','T'])\n",
    "  \n",
    "# forming series\n",
    "s = pd.Series(arr)\n",
    "  \n",
    "# output\n",
    "print(s)"
   ]
  },
  {
   "cell_type": "code",
   "execution_count": 24,
   "metadata": {},
   "outputs": [
    {
     "name": "stdout",
     "output_type": "stream",
     "text": [
      "0    9012\n",
      "1    2070\n",
      "2    4081\n",
      "3    9346\n",
      "4    5079\n",
      "Name:  Identifier, dtype: int64\n"
     ]
    }
   ],
   "source": [
    "#Program 8: Retrieve the first field in df from any csv? \n",
    "users = pd.read_csv(r\"C:\\Users\\Om\\Downloads\\username.csv\",sep=\";\")\n",
    "print(users[\" Identifier\"])\n",
    "\n"
   ]
  },
  {
   "cell_type": "code",
   "execution_count": 10,
   "metadata": {},
   "outputs": [
    {
     "name": "stdout",
     "output_type": "stream",
     "text": [
      "Series1:\n",
      "0     2\n",
      "1     4\n",
      "2     8\n",
      "3    20\n",
      "4    10\n",
      "5    47\n",
      "6    99\n",
      "dtype: int64\n",
      "\n",
      "Series2:\n",
      "0     1\n",
      "1     3\n",
      "2     6\n",
      "3     4\n",
      "4    10\n",
      "5    99\n",
      "6    50\n",
      "dtype: int64\n",
      "\n",
      "Items of ps1 not present in ps2:\n",
      "0     2\n",
      "2     8\n",
      "3    20\n",
      "5    47\n",
      "dtype: int64\n"
     ]
    }
   ],
   "source": [
    "# Program 9 : How to get the items of series A not present in series B. \n",
    "\n",
    "# Creating 2 pandas Series\n",
    "ps1 = pd.Series([2, 4, 8, 20, 10, 47, 99])\n",
    "ps2 = pd.Series([1, 3, 6, 4, 10, 99, 50])\n",
    "\n",
    "print(\"Series1:\")\n",
    "print(ps1)\n",
    "print(\"\\nSeries2:\")\n",
    "print(ps2)\n",
    "\n",
    "# Using Bitwise NOT operator along\n",
    "# with pandas.isin()\n",
    "print(\"\\nItems of ps1 not present in ps2:\")\n",
    "res = ps1[~ps1.isin(ps2)]\n",
    "print(res)\n"
   ]
  },
  {
   "cell_type": "code",
   "execution_count": 11,
   "metadata": {},
   "outputs": [
    {
     "name": "stdout",
     "output_type": "stream",
     "text": [
      "0    1\n",
      "1    2\n",
      "5    6\n",
      "6    7\n",
      "dtype: int64\n"
     ]
    }
   ],
   "source": [
    "##Program 10 : How to get the items not common to both series A and series B? \n",
    "# create the series\n",
    "ser1 = pd.Series([1, 2, 3, 4, 5])\n",
    "ser2 = pd.Series([3, 4, 5, 6, 7])\n",
    "\n",
    "# union of the series\n",
    "union = pd.Series(np.union1d(ser1, ser2))\n",
    "\n",
    "# intersection of the series\n",
    "intersect = pd.Series(np.intersect1d(ser1, ser2))\n",
    "\n",
    "# uncommon elements in both the series\n",
    "notcommonseries = union[~union.isin(intersect)]\n",
    "\n",
    "# displaying the result\n",
    "print(notcommonseries)\n"
   ]
  },
  {
   "cell_type": "code",
   "execution_count": 12,
   "metadata": {},
   "outputs": [
    {
     "name": "stdout",
     "output_type": "stream",
     "text": [
      "0     2\n",
      "1     3\n",
      "2     4\n",
      "3     5\n",
      "4     5\n",
      "5     6\n",
      "6     7\n",
      "7     8\n",
      "8     9\n",
      "9     5\n",
      "10    3\n",
      "dtype: int64\n",
      "5    3\n",
      "3    2\n",
      "2    1\n",
      "4    1\n",
      "6    1\n",
      "7    1\n",
      "8    1\n",
      "9    1\n",
      "dtype: int64\n"
     ]
    }
   ],
   "source": [
    "#Program 11: Calculate the frequency counts of each unique value in series. \n",
    "\n",
    "\n",
    "# creating the series\n",
    "s = pd.Series(data = [2, 3, 4, 5, 5, 6,\n",
    "\t\t\t\t\t7, 8, 9, 5, 3])\n",
    "\n",
    "# displaying the series\n",
    "print(s)\n",
    "\n",
    "# finding the unique count\n",
    "print(s.value_counts())\n"
   ]
  },
  {
   "cell_type": "code",
   "execution_count": 13,
   "metadata": {},
   "outputs": [
    {
     "name": "stdout",
     "output_type": "stream",
     "text": [
      "g\n",
      "0    g\n",
      "1    e\n",
      "2    e\n",
      "3    k\n",
      "4    s\n",
      "dtype: object\n",
      "3     k\n",
      "4     s\n",
      "5     f\n",
      "6     o\n",
      "7     r\n",
      "8     g\n",
      "9     e\n",
      "10    e\n",
      "11    k\n",
      "12    s\n",
      "dtype: object\n",
      "10    e\n",
      "11    k\n",
      "12    s\n",
      "dtype: object\n"
     ]
    }
   ],
   "source": [
    "#Program 12 :How to extract items at given positions from a series. \n",
    "# import pandas and numpy\n",
    "\n",
    "data = np.array(['u', 'y', 't', 'w', 'n', 'q', 'm', 'w', 'q', 'a', 'x', 'o', 'd'])\n",
    "ser = pd.Series(data)\n",
    "\n",
    "\n",
    "# retrieve the first element\n",
    "print(ser[0])\n",
    "\n",
    "# retrieve the first element\n",
    "print(ser[:5])\n",
    "\n",
    "# retrieve the first element\n",
    "print(ser[-10:])\n",
    "\n",
    "# accessing a multiple element using \n",
    "# index element\n",
    "print(ser[[10, 11, 12]])"
   ]
  },
  {
   "cell_type": "code",
   "execution_count": 25,
   "metadata": {},
   "outputs": [
    {
     "name": "stdout",
     "output_type": "stream",
     "text": [
      "Answer 1 :  Which country has won the most gold medals in all games?    United States\n",
      "Answer 2 : Which country has won the most gold medals in summer games?   Norway\n",
      "Answer 3 : Which country has won the most gold medals in winter games?   United States\n",
      "Answer 4: Which country had the biggest difference between their summer and winter gold medal counts?  United States\n",
      "Answer 5 : Bulgaria\n",
      "Answer 6 : \n",
      "                        ? Summer  Gold  Silver  Bronze  Total  ? Winter  \\\n",
      "Australia                     25   139     152     177    468        18   \n",
      "Austria                       26    18      33      35     86        22   \n",
      "Belarus                        5    12      24      39     75         6   \n",
      "Belgium                       25    37      52      53    142        20   \n",
      "Bulgaria                      19    51      85      78    214        19   \n",
      "Canada                        25    59      99     121    279        22   \n",
      "China                          9   201     146     126    473        10   \n",
      "Croatia                        6     6       7      10     23         7   \n",
      "Czech Republic                 5    14      15      15     44         6   \n",
      "Czechoslovakia                16    49      49      45    143        16   \n",
      "Estonia                       11     9       9      15     33         9   \n",
      "Finland                       24   101      84     117    302        22   \n",
      "France                        27   202     223     246    671        22   \n",
      "Germany                       15   174     182     217    573        11   \n",
      "United Team of Germany         3    28      54      36    118         3   \n",
      "East Germany                   5   153     129     127    409         6   \n",
      "West Germany                   5    56      67      81    204         6   \n",
      "Great Britain                 27   236     272     272    780        22   \n",
      "Italy                         26   198     166     185    549        22   \n",
      "Japan                         21   130     126     142    398        20   \n",
      "Kazakhstan                     5    16      17      19     52         6   \n",
      "South Korea                   16    81      82      80    243        17   \n",
      "Netherlands                   25    77      85     104    266        20   \n",
      "Norway                        24    56      49      43    148        22   \n",
      "Poland                        20    64      82     125    271        22   \n",
      "Russia                         5   132     121     142    395         6   \n",
      "Soviet Union                   9   395     319     296   1010         9   \n",
      "Unified Team                   1    45      38      29    112         1   \n",
      "Slovakia                       5     7       9       8     24         6   \n",
      "Slovenia                       6     4       6       9     19         7   \n",
      "Spain                         22    37      59      35    131        19   \n",
      "Sweden                        26   143     164     176    483        22   \n",
      "Switzerland                   27    47      73      65    185        22   \n",
      "Ukraine                        5    33      27      55    115         6   \n",
      "United States                 26   976     757     666   2399        22   \n",
      "Uzbekistan                     5     5       5      10     20         6   \n",
      "\n",
      "                        Gold.1  Silver.1  Bronze.1  Total.1  ? Games  Gold.2  \\\n",
      "Australia                    5         3         4       12       43     144   \n",
      "Austria                     59        78        81      218       48      77   \n",
      "Belarus                      6         4         5       15       11      18   \n",
      "Belgium                      1         1         3        5       45      38   \n",
      "Bulgaria                     1         2         3        6       38      52   \n",
      "Canada                      62        56        52      170       47     121   \n",
      "China                       12        22        19       53       19     213   \n",
      "Croatia                      4         6         1       11       13      10   \n",
      "Czech Republic               7         9         8       24       11      21   \n",
      "Czechoslovakia               2         8        15       25       32      51   \n",
      "Estonia                      4         2         1        7       20      13   \n",
      "Finland                     42        62        57      161       46     143   \n",
      "France                      31        31        47      109       49     233   \n",
      "Germany                     78        78        53      209       26     252   \n",
      "United Team of Germany       8         6         5       19        6      36   \n",
      "East Germany                39        36        35      110       11     192   \n",
      "West Germany                11        15        13       39       11      67   \n",
      "Great Britain               10         4        12       26       49     246   \n",
      "Italy                       37        34        43      114       48     235   \n",
      "Japan                       10        17        18       45       41     140   \n",
      "Kazakhstan                   1         3         3        7       11      17   \n",
      "South Korea                 26        17        10       53       33     107   \n",
      "Netherlands                 37        38        35      110       45     114   \n",
      "Norway                     118       111       100      329       46     174   \n",
      "Poland                       6         7         7       20       42      70   \n",
      "Russia                      49        40        35      124       11     181   \n",
      "Soviet Union                78        57        59      194       18     473   \n",
      "Unified Team                 9         6         8       23        2      54   \n",
      "Slovakia                     2         2         1        5       11       9   \n",
      "Slovenia                     2         4         9       15       13       6   \n",
      "Spain                        1         0         1        2       41      38   \n",
      "Sweden                      50        40        54      144       48     193   \n",
      "Switzerland                 50        40        48      138       49      97   \n",
      "Ukraine                      2         1         4        7       11      35   \n",
      "United States               96       102        84      282       48    1072   \n",
      "Uzbekistan                   1         0         0        1       11       6   \n",
      "\n",
      "                        Silver.2  Bronze.2  Combined total   ID  \n",
      "Australia                    155       181             480  AUS  \n",
      "Austria                      111       116             304  AUT  \n",
      "Belarus                       28        44              90  BLR  \n",
      "Belgium                       53        56             147  BEL  \n",
      "Bulgaria                      87        81             220  BUL  \n",
      "Canada                       155       173             449  CAN  \n",
      "China                        168       145             526  CHN  \n",
      "Croatia                       13        11              34  CRO  \n",
      "Czech Republic                24        23              68  CZE  \n",
      "Czechoslovakia                57        60             168  TCH  \n",
      "Estonia                       11        16              40  EST  \n",
      "Finland                      146       174             463  FIN  \n",
      "France                       254       293             780  FRA  \n",
      "Germany                      260       270             782  GER  \n",
      "United Team of Germany        60        41             137  EUA  \n",
      "East Germany                 165       162             519  GDR  \n",
      "West Germany                  82        94             243  FRG  \n",
      "Great Britain                276       284             806  GBR  \n",
      "Italy                        200       228             663  ITA  \n",
      "Japan                        143       160             443  JPN  \n",
      "Kazakhstan                    20        22              59  KAZ  \n",
      "South Korea                   99        90             296  KOR  \n",
      "Netherlands                  123       139             376  NED  \n",
      "Norway                       160       143             477  NOR  \n",
      "Poland                        89       132             291  POL  \n",
      "Russia                       161       177             519  RUS  \n",
      "Soviet Union                 376       355            1204  URS  \n",
      "Unified Team                  44        37             135  EUN  \n",
      "Slovakia                      11         9              29  SVK  \n",
      "Slovenia                      10        18              34  SLO  \n",
      "Spain                         59        36             133  ESP  \n",
      "Sweden                       204       230             627  SWE  \n",
      "Switzerland                  113       113             323  SUI  \n",
      "Ukraine                       28        59             122  UKR  \n",
      "United States                859       750            2681  USA  \n",
      "Uzbekistan                     5        10              21  UZB  \n"
     ]
    }
   ],
   "source": [
    "#Program 13 : Olympics.csv\n",
    "df = pd.read_csv(r\"C:\\Users\\Om\\Downloads\\olympics1.csv\",index_col=0)\n",
    "\n",
    "\n",
    "#1   a Which country has won the most gold medals in all games?  \n",
    "x = max(df['Gold'])\n",
    "ans = df[df['Gold'] == x].index.tolist()\n",
    "print(\"Answer 1 :  Which country has won the most gold medals in all games?   \",ans[0])\n",
    "\n",
    "\n",
    "#2 Which country has won the most gold medals in summer games? \n",
    "x = max(df['Gold.1'])\n",
    "ans = df[df['Gold.1'] == x].index.tolist()\n",
    "print(\"Answer 2 : Which country has won the most gold medals in summer games?  \",ans[0])\n",
    "\n",
    "\n",
    "# 3 Which country has won the most gold medals in winter games? \n",
    "x= max(df['Gold.2'])\n",
    "ans = df[df['Gold.2'] == x].index.tolist()\n",
    "print(\"Answer 3 : Which country has won the most gold medals in winter games?  \",ans[0])\n",
    "\n",
    "\n",
    "# 4 Which country had the biggest difference between their summer and winter gold medal counts?\n",
    "\n",
    "x = max(df['Gold'] - df['Gold.1'])\n",
    "ans = df[(df['Gold'] - df['Gold.1']) == x].index.tolist()\n",
    "print(\"Answer 4: Which country had the biggest difference between their summer and winter gold medal counts? \",ans[0])\n",
    "\n",
    "\n",
    "#5 Which country has the biggest difference between their summer and winter gold \n",
    "# #medal counts relative to their total gold medal count? \n",
    "print(\"Answer 5 : \",end=\"\")\n",
    "df_gold = df[(df['Gold']>0) & (df['Gold.1']>0)]\n",
    "\n",
    "df_max_diff = (abs(df_gold['Gold']-df_gold['Gold.1'])/df_gold['Gold.2'])\n",
    "print(df_max_diff.idxmax())\n",
    "\n",
    "#6  Only include countries that have won at least 1 gold in both summer and winter. \n",
    "print(\"Answer 6 : \")\n",
    "df_gold = df[(df['Gold']>0) & (df['Gold.1']>0)]\n",
    "print(df_gold)\n",
    "\n",
    "\n"
   ]
  },
  {
   "cell_type": "code",
   "execution_count": 15,
   "metadata": {},
   "outputs": [
    {
     "data": {
      "image/png": "[encoded data removed]",
      "text/plain": [
       "<Figure size 432x288 with 1 Axes>"
      ]
     },
     "metadata": {
      "needs_background": "light"
     },
     "output_type": "display_data"
    }
   ],
   "source": [
    "#boxplot\n",
    "#Program 14: Draw boxplot for following data \n",
    "\n",
    "val1= np.array([3,5,8,8,9,11,12,12,13,13,16])\n",
    "val2= np.array([220,252,256,312,332,332,400])\n",
    "val3 =np.array([18,25,29,33,44])\n",
    "val4= np.array([19, 12, 9, 7, 17, 10, 6, 18, 9, 14, 19, 8, 5, 17, 9])\n",
    "plt.boxplot((val1,val2,val3,val4))\n",
    "plt.show()"
   ]
  },
  {
   "cell_type": "code",
   "execution_count": 16,
   "metadata": {},
   "outputs": [
    {
     "name": "stdout",
     "output_type": "stream",
     "text": [
      "Checking dimension of dataset: (25, 2)\n",
      "\n",
      "Head data of file:\n",
      "    Hours  Scores\n",
      "0    2.5      21\n",
      "1    5.1      47\n",
      "2    3.2      27\n",
      "3    8.5      75\n",
      "4    3.5      30\n",
      "\n",
      "Description of data:\n",
      "            Hours     Scores\n",
      "count  25.000000  25.000000\n",
      "mean    5.012000  51.480000\n",
      "std     2.525094  25.286887\n",
      "min     1.100000  17.000000\n",
      "25%     2.700000  30.000000\n",
      "50%     4.800000  47.000000\n",
      "75%     7.400000  75.000000\n",
      "max     9.200000  95.000000\n"
     ]
    },
    {
     "data": {
      "image/png": "[encoded data removed]",
      "text/plain": [
       "<Figure size 432x288 with 1 Axes>"
      ]
     },
     "metadata": {
      "needs_background": "light"
     },
     "output_type": "display_data"
    },
    {
     "name": "stdout",
     "output_type": "stream",
     "text": [
      "Hours:\n",
      " [[2.5]\n",
      " [5.1]\n",
      " [3.2]\n",
      " [8.5]\n",
      " [3.5]\n",
      " [1.5]\n",
      " [9.2]\n",
      " [5.5]\n",
      " [8.3]\n",
      " [2.7]\n",
      " [7.7]\n",
      " [5.9]\n",
      " [4.5]\n",
      " [3.3]\n",
      " [1.1]\n",
      " [8.9]\n",
      " [2.5]\n",
      " [1.9]\n",
      " [6.1]\n",
      " [7.4]\n",
      " [2.7]\n",
      " [4.8]\n",
      " [3.8]\n",
      " [6.9]\n",
      " [7.8]]\n",
      "\n",
      "Scores: [21 47 27 75 30 20 88 60 81 25 85 62 41 42 17 95 30 24 67 69 30 54 35 76\n",
      " 86]\n"
     ]
    }
   ],
   "source": [
    "\"\"\"16. Implementation of Linear Regression.\"\"\"\n",
    "\n",
    "import pandas as pd  \n",
    "import numpy as np  \n",
    "import matplotlib.pyplot as plt  \n",
    "\n",
    "dataset = pd.read_csv(r\"C:\\Users\\Om\\Downloads\\studentScoresLinearRegression.csv\")\n",
    "print(\"Checking dimension of dataset:\",dataset.shape)    #Rows & Column\n",
    "print(\"\\nHead data of file:\\n\",dataset.head())           #Fethching top 5 datasets\n",
    "print(\"\\nDescription of data:\\n\",dataset.describe())     #Describing top 5 datasets\n",
    "\n",
    "dataset.plot(x='Hours', y='Scores', style='.', color=\"magenta\")     #Plotting the graph\n",
    "plt.title('Linear Regression Graph')  \n",
    "plt.xlabel('Hours Scale')  \n",
    "plt.ylabel('Percentage')  \n",
    "plt.show() \n",
    "\n",
    "X = dataset.iloc[:,0:1].values    #Receiving all Hours in obj X in 2-D array\n",
    "print(\"Hours:\\n\",X)\n",
    "y = dataset.iloc[:,1].values    #Receiving all Scores in obj Y in 1-D array\n",
    "print(\"\\nScores:\",y)\n",
    "\n"
   ]
  },
  {
   "cell_type": "code",
   "execution_count": 17,
   "metadata": {},
   "outputs": [
    {
     "name": "stdout",
     "output_type": "stream",
     "text": [
      "Training data for X: [[3.8]\n",
      " [2.7]\n",
      " [5.1]\n",
      " [4.8]\n",
      " [9.2]\n",
      " [6.1]\n",
      " [8.5]\n",
      " [1.9]\n",
      " [5.5]\n",
      " [4.5]\n",
      " [1.1]\n",
      " [8.9]\n",
      " [7.4]\n",
      " [2.7]\n",
      " [7.8]\n",
      " [1.5]\n",
      " [3.3]\n",
      " [5.9]\n",
      " [3.5]\n",
      " [2.5]]\n",
      "Testing data for X: [[2.5]\n",
      " [8.3]\n",
      " [3.2]\n",
      " [6.9]\n",
      " [7.7]]\n",
      "\n",
      "Training data for y: [35 30 47 54 88 67 75 24 60 41 17 95 69 25 86 20 42 62 30 30]\n",
      "Testing data for y: [21 81 27 76 85]\n",
      "\n",
      "Training dataset over LR: LinearRegression()\n",
      "Value of Slope          : [9.37090314]\n",
      "Value of Intercept      : 4.541683339452412\n",
      "\n",
      "New predicted data:\n",
      " [27.96894118 82.32017936 34.52857337 69.20091497 76.69763748]\n",
      "\n",
      "Comparision between Actual and Predicted data:\n",
      "    Actual  Predicted\n",
      "0      21  27.968941\n",
      "1      81  82.320179\n",
      "2      27  34.528573\n",
      "3      76  69.200915\n",
      "4      85  76.697637\n",
      "\n",
      "Mean Squared Error     : 44.429042454914494\n",
      "Root Mean Squared Error: 6.665511417356848\n",
      "Coeff. of determination: 0.94\n"
     ]
    },
    {
     "data": {
      "image/png": "[encoded data removed]",
      "text/plain": [
       "<Figure size 432x288 with 1 Axes>"
      ]
     },
     "metadata": {
      "needs_background": "light"
     },
     "output_type": "display_data"
    },
    {
     "name": "stdout",
     "output_type": "stream",
     "text": [
      "Predicted value of y: [229.44335859]\n"
     ]
    }
   ],
   "source": [
    "from sklearn.model_selection import train_test_split as tts \n",
    "X_train, X_test, y_train, y_test = tts(X, y, test_size=0.2)    #Dividing dataset into training 80% & testing data 20%\n",
    "print(\"Training data for X:\",X_train)\n",
    "print(\"Testing data for X:\",X_test)\n",
    "print(\"\\nTraining data for y:\",y_train)\n",
    "print(\"Testing data for y:\",y_test)\n",
    "\n",
    "from sklearn.linear_model import LinearRegression as lr\n",
    "regressor = lr()       \n",
    "print(\"\\nTraining dataset over LR:\",regressor.fit(X_train, y_train))      #Training dataset for Linear Regression\n",
    "\n",
    "print(\"Value of Slope          :\",regressor.coef_)          #Slope(m)   y=mx+c\n",
    "print(\"Value of Intercept      :\",regressor.intercept_)     #Constant(c)\n",
    "\n",
    "y_pred = regressor.predict(X_test)      #Now getting prediction for the test data X\n",
    "print(\"\\nNew predicted data:\\n\",y_pred)\n",
    "\n",
    "df = pd.DataFrame({'Actual': y_test, 'Predicted': y_pred})       #Comparision\n",
    "print(\"\\nComparision between Actual and Predicted data:\\n\",df)  \n",
    "\n",
    "from sklearn import metrics\n",
    "from sklearn.metrics import mean_squared_error, r2_score\n",
    "print('\\nMean Squared Error     :', mean_squared_error(y_test, y_pred))           #MSE\n",
    "print('Root Mean Squared Error:', np.sqrt(mean_squared_error(y_test, y_pred)))    #Root MSE\n",
    "print('Coeff. of determination: %.2f' %r2_score(y_test, y_pred))                  #Coefficient of determination   \n",
    "\n",
    "plt.title('Variation')  \n",
    "plt.xlabel('Hours Scale')  \n",
    "plt.ylabel('Percentage') \n",
    "plt.scatter(X_test, y_test, color='black')\n",
    "plt.plot(X_test, y_pred, linestyle=\"dashdot\", linewidth=2)\n",
    "plt.show()                             #Graph to see variation b\\w Actual and Predicted data\n",
    "\n",
    "new_pre = regressor.predict([[24]])    #Predicting value of y if x=24\n",
    "print(\"Predicted value of y:\",new_pre)"
   ]
  },
  {
   "cell_type": "code",
   "execution_count": null,
   "metadata": {},
   "outputs": [],
   "source": []
  }
 ],
 "metadata": {
  "interpreter": {
   "hash": "8af88f9ec9937321b23bacd32c777366d75a8bf2f4fa61848dece81b9051344d"
  },
  "kernelspec": {
   "display_name": "Python 3.9.7 64-bit",
   "name": "python3"
  },
  "language_info": {
   "codemirror_mode": {
    "name": "ipython",
    "version": 3
   },
   "file_extension": ".py",
   "mimetype": "text/x-python",
   "name": "python",
   "nbconvert_exporter": "python",
   "pygments_lexer": "ipython3",
   "version": "3.9.7"
  }
 },
 "nbformat": 4,
 "nbformat_minor": 5
}
