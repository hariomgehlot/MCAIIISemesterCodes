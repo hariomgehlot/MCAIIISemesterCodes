{
 "cells": [
  {
   "cell_type": "code",
   "execution_count": null,
   "metadata": {},
   "outputs": [],
   "source": [
    "import numpy as np \n",
    "import pandas as pd\n",
    "import matplotlib.pyplot as plt"
   ]
  },
  {
   "cell_type": "code",
   "execution_count": null,
   "metadata": {},
   "outputs": [],
   "source": [
    "#Program 1  \"Create a 3 x 3 numpy array of all True (Boolean)\"\n",
    "arr3x3 = np.ones((3,3),dtype=bool)\n",
    "print(arr3x3)"
   ]
  },
  {
   "cell_type": "code",
   "execution_count": null,
   "metadata": {},
   "outputs": [],
   "source": [
    "#Program 2 \"Get the common items from arr1 and arr2\"\n",
    "\n",
    "arr1 = np.array([1,2,4,6,8,95,3])\n",
    "arr2 = np.array([5,78,6,1,7,5,3])\n",
    "\n",
    "intersection = np.intersect1d(arr1,arr2)\n",
    "print(\"Intesection : \",intersection)\n"
   ]
  },
  {
   "cell_type": "code",
   "execution_count": null,
   "metadata": {},
   "outputs": [],
   "source": [
    "#Program 3 \"Swap Rows 1 and 2 in the array\"\n",
    "arr2D = np.random.randint(1,10,size=(3,5))\n",
    "print(\"Before swapping 0th and 1st row \\n\",arr2D)\n",
    "arr2D[[0,1]] = arr2D[[1,0]]\n",
    "print(\"After swapping 0th and 1st row : \\n\",arr2D)"
   ]
  },
  {
   "cell_type": "code",
   "execution_count": null,
   "metadata": {},
   "outputs": [],
   "source": [
    "#Program 4 \" Reverse the columns of a 2D array \"\n",
    "import numpy as np\n",
    "arr=np.array([2,4,889,66,8,10,12])\n",
    "print(\"Array before Reversing  : \\n\",arr)\n",
    "print(arr)\n",
    "rev=np.flip(arr)\n",
    "print(\"Array after swapping columns : \\n\",rev)"
   ]
  },
  {
   "cell_type": "code",
   "execution_count": null,
   "metadata": {},
   "outputs": [],
   "source": [
    "#program 5 (show only 3 decimal places numpy array )\n",
    "num=np.round(np.random.normal(0.121,4.567,10),3)\n",
    "print(num)"
   ]
  },
  {
   "cell_type": "code",
   "execution_count": null,
   "metadata": {},
   "outputs": [],
   "source": [
    "#Program 6 \"Compute Mean Median standard deviation of an array\"\n",
    "print(\"Mean of:\",arr, \"is\",np.mean(arr))\n",
    "print(\"Median of \",arr,\" is \", np.median(arr))\n",
    "print(\"Standard deviation of \",arr,\" is \", np.std(arr))\n"
   ]
  },
  {
   "cell_type": "code",
   "execution_count": null,
   "metadata": {},
   "outputs": [],
   "source": [
    "# Program 7 :  Create pandas series from different data types like list, numpy array and dictionary.\n",
    "# simple list\n",
    "lst = ['G','E','E','K','S','F',\n",
    "       'O','R','G','E','E','K','S']\n",
    "  \n",
    "# forming series\n",
    "s = pd.Series(lst)\n",
    "print(s)\n",
    "\n",
    "# simple dict\n",
    "dct = {'G':2,'E':4,'K':2,'S':2,\n",
    "       'F':1,'O':1,'R':1}\n",
    "  \n",
    "# forming series\n",
    "s = pd.Series(dct)\n",
    "  \n",
    "# output\n",
    "print(s)\n",
    "\n",
    "\n",
    "# numpy array\n",
    "arr = np.array(['G','E','E','K','S','F',\n",
    "                'O','R','G','E','E','K','S'])\n",
    "  \n",
    "# forming series\n",
    "s = pd.Series(arr)\n",
    "  \n",
    "# output\n",
    "print(s)"
   ]
  },
  {
   "cell_type": "code",
   "execution_count": null,
   "metadata": {},
   "outputs": [],
   "source": [
    "#Program 8: Retrieve the first field in df from any csv? \n",
    "users = pd.read_csv(r\"C:\\Users\\Om\\Downloads\\username.csv\",sep=\";\",index_col=0)\n",
    "print(users[\" Identifier\"])\n"
   ]
  },
  {
   "cell_type": "code",
   "execution_count": null,
   "metadata": {},
   "outputs": [],
   "source": [
    "# Program 9 : How to get the items of series A not present in series B. \n",
    "\n",
    "# Creating 2 pandas Series\n",
    "ps1 = pd.Series([2, 4, 8, 20, 10, 47, 99])\n",
    "ps2 = pd.Series([1, 3, 6, 4, 10, 99, 50])\n",
    "\n",
    "print(\"Series1:\")\n",
    "print(ps1)\n",
    "print(\"\\nSeries2:\")\n",
    "print(ps2)\n",
    "\n",
    "# Using Bitwise NOT operator along\n",
    "# with pandas.isin()\n",
    "print(\"\\nItems of ps1 not present in ps2:\")\n",
    "res = ps1[~ps1.isin(ps2)]\n",
    "print(res)\n"
   ]
  },
  {
   "cell_type": "code",
   "execution_count": null,
   "metadata": {},
   "outputs": [],
   "source": [
    "##Program 10 : How to get the items not common to both series A and series B? \n",
    "# create the series\n",
    "ser1 = pd.Series([1, 2, 3, 4, 5])\n",
    "ser2 = pd.Series([3, 4, 5, 6, 7])\n",
    "\n",
    "# union of the series\n",
    "union = pd.Series(np.union1d(ser1, ser2))\n",
    "\n",
    "# intersection of the series\n",
    "intersect = pd.Series(np.intersect1d(ser1, ser2))\n",
    "\n",
    "# uncommon elements in both the series\n",
    "notcommonseries = union[~union.isin(intersect)]\n",
    "\n",
    "# displaying the result\n",
    "print(notcommonseries)\n"
   ]
  },
  {
   "cell_type": "code",
   "execution_count": null,
   "metadata": {},
   "outputs": [],
   "source": [
    "#Program 11: Calculate the frequency counts of each unique value in series. \n",
    "\n",
    "\n",
    "# creating the series\n",
    "s = pd.Series(data = [2, 3, 4, 5, 5, 6,\n",
    "\t\t\t\t\t7, 8, 9, 5, 3])\n",
    "\n",
    "# displaying the series\n",
    "print(s)\n",
    "\n",
    "# finding the unique count\n",
    "print(s.value_counts())\n"
   ]
  },
  {
   "cell_type": "code",
   "execution_count": null,
   "metadata": {},
   "outputs": [],
   "source": [
    "#Program 12 :How to extract items at given positions from a series. \n",
    "# import pandas and numpy\n",
    "\n",
    "data = np.array(['g', 'e', 'e', 'k', 's', 'f', 'o', 'r', 'g', 'e', 'e', 'k', 's'])\n",
    "ser = pd.Series(data)\n",
    "\n",
    "\n",
    "# retrieve the first element\n",
    "print(ser[0])\n",
    "\n",
    "# retrieve the first element\n",
    "print(ser[:5])\n",
    "\n",
    "# retrieve the first element\n",
    "print(ser[-10:])\n",
    "\n",
    "# accessing a multiple element using \n",
    "# index element\n",
    "print(ser[[10, 11, 12]])"
   ]
  },
  {
   "cell_type": "code",
   "execution_count": null,
   "metadata": {},
   "outputs": [],
   "source": [
    "#Program 13 : Olympics.csv\n",
    "df = pd.read_csv(r\"C:\\Users\\Om\\Downloads\\olympics1.csv\",index_col=0)\n",
    "\n",
    "\n",
    "#1   a Which country has won the most gold medals in all games?  \n",
    "x = max(df['Gold'])\n",
    "ans = df[df['Gold'] == x].index.tolist()\n",
    "print(\"Answer 1 : \",ans[0])\n",
    "\n",
    "\n",
    "#2 Which country has won the most gold medals in summer games? \n",
    "x = max(df['Gold.1'])\n",
    "ans = df[df['Gold.1'] == x].index.tolist()\n",
    "print(\"Answer 2 : \",ans[0])\n",
    "\n",
    "\n",
    "# 3 Which country has won the most gold medals in winter games? \n",
    "x= max(df['Gold.2'])\n",
    "ans = df[df['Gold.2'] == x].index.tolist()\n",
    "print(\"Answer 3 : \",ans[0])\n",
    "\n",
    "\n",
    "# 4 Which country had the biggest difference between their summer and winter gold medal counts?\n",
    "\n",
    "x = max(df['Gold'] - df['Gold.1'])\n",
    "ans = df[(df['Gold'] - df['Gold.1']) == x].index.tolist()\n",
    "print(\"Answer 4: \",ans[0])\n",
    "\n",
    "\n",
    "#5 Which country has the biggest difference between their summer and winter gold \n",
    "# #medal counts relative to their total gold medal count? \n",
    "print(\"Answer 5 : \",end=\"\")\n",
    "df_gold = df[(df['Gold']>0) & (df['Gold.1']>0)]\n",
    "\n",
    "df_max_diff = (abs(df_gold['Gold']-df_gold['Gold.1'])/df_gold['Gold.2'])\n",
    "print(df_max_diff.idxmax())\n",
    "\n",
    "#6  Only include countries that have won at least 1 gold in both summer and winter. \n",
    "print(\"Answer 6 : \")\n",
    "df_gold = df[(df['Gold']>0) & (df['Gold.1']>0)]\n",
    "print(df_gold)\n",
    "\n",
    "\n"
   ]
  },
  {
   "cell_type": "code",
   "execution_count": null,
   "metadata": {},
   "outputs": [],
   "source": [
    "#boxplot\n",
    "#Program 14: Draw boxplot for following data \n",
    "\n",
    "val1= np.array([3,5,8,8,9,11,12,12,13,13,16])\n",
    "val2= np.array([220,252,256,312,332,332,400])\n",
    "val3 =np.array([18,25,29,33,44])\n",
    "val4= np.array([19, 12, 9, 7, 17, 10, 6, 18, 9, 14, 19, 8, 5, 17, 9])\n",
    "plt.boxplot((val1,val2,val3,val4))\n",
    "plt.show()"
   ]
  },
  {
   "cell_type": "code",
   "execution_count": null,
   "metadata": {},
   "outputs": [],
   "source": []
  }
 ],
 "metadata": {
  "interpreter": {
   "hash": "8af88f9ec9937321b23bacd32c777366d75a8bf2f4fa61848dece81b9051344d"
  },
  "kernelspec": {
   "display_name": "Python 3.9.7 64-bit",
   "name": "python3"
  },
  "language_info": {
   "codemirror_mode": {
    "name": "ipython",
    "version": 3
   },
   "file_extension": ".py",
   "mimetype": "text/x-python",
   "name": "python",
   "nbconvert_exporter": "python",
   "pygments_lexer": "ipython3",
   "version": "3.9.7"
  }
 },
 "nbformat": 4,
 "nbformat_minor": 5
}
