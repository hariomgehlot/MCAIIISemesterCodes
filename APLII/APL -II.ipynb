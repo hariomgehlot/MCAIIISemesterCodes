{
 "cells": [
  {
   "cell_type": "code",
   "execution_count": 2,
   "source": [
    "import numpy as np "
   ],
   "outputs": [],
   "metadata": {}
  },
  {
   "cell_type": "code",
   "execution_count": 5,
   "source": [
    "#Program 1  \"Create a 3 x 3 numpy array of all True (Boolean)\"\r\n",
    "arr3x3 = np.ones((3,3),dtype=bool)\r\n",
    "print(arr3x3)"
   ],
   "outputs": [
    {
     "output_type": "execute_result",
     "data": {
      "text/plain": [
       "array([[ True,  True,  True],\n",
       "       [ True,  True,  True],\n",
       "       [ True,  True,  True]])"
      ]
     },
     "metadata": {},
     "execution_count": 5
    }
   ],
   "metadata": {}
  },
  {
   "cell_type": "code",
   "execution_count": 6,
   "source": [
    "#Program 2 \"Get the common items from arr1 and arr2\"\r\n",
    "\r\n",
    "arr1 = np.array([1,2,4,6,8,95,3])\r\n",
    "arr2 = np.array([5,78,6,1,7,5,3])\r\n",
    "\r\n",
    "intersection = np.intersect1d(arr1,arr2)\r\n",
    "print(\"Intesection : \",intersection)\r\n"
   ],
   "outputs": [
    {
     "output_type": "stream",
     "name": "stdout",
     "text": [
      "Intesection :  [1 3 6]\n"
     ]
    }
   ],
   "metadata": {}
  },
  {
   "cell_type": "code",
   "execution_count": 19,
   "source": [
    "#Program 3 \"Swap Rows 1 and 2 in the array\"\r\n",
    "arr2D = np.random.randint(1,10,size=(3,5))\r\n",
    "print(\"Before swapping 0th and 1st row \\n\",arr2D)\r\n",
    "arr2D[[0,1]] = arr2D[[1,0]]\r\n",
    "print(\"After swapping 0th and 1st row : \\n\",arr2D)"
   ],
   "outputs": [
    {
     "output_type": "stream",
     "name": "stdout",
     "text": [
      "Before swapping 0th and 1st row \n",
      " [[6 5 1 6 1]\n",
      " [6 2 2 9 9]\n",
      " [1 2 3 3 6]]\n",
      "After swapping 0th and 1st row : \n",
      " [[6 2 2 9 9]\n",
      " [6 5 1 6 1]\n",
      " [1 2 3 3 6]]\n"
     ]
    }
   ],
   "metadata": {}
  },
  {
   "cell_type": "code",
   "execution_count": 29,
   "source": [
    "#Program 4 \" Reverse the columns of a 2D array \"\r\n",
    "import numpy as np\r\n",
    "arr=np.array([2,4,889,66,8,10,12])\r\n",
    "print(\"Array before Reversing  : \\n\",arr)\r\n",
    "print(arr)\r\n",
    "rev=np.flip(arr)\r\n",
    "print(\"Array after swapping columns : \\n\",rev)"
   ],
   "outputs": [
    {
     "output_type": "stream",
     "name": "stdout",
     "text": [
      "Array before Reversing  : \n",
      " [  2   4 889  66   8  10  12]\n",
      "[  2   4 889  66   8  10  12]\n",
      "Array after swapping columns : \n",
      " [ 12  10   8  66 889   4   2]\n"
     ]
    }
   ],
   "metadata": {}
  },
  {
   "cell_type": "code",
   "execution_count": 22,
   "source": [
    "#program 5 (show only 3 decimal places numpy array )\r\n",
    "num=np.round(np.random.normal(0.121,4.567,10),3)\r\n",
    "print(num)"
   ],
   "outputs": [
    {
     "output_type": "stream",
     "name": "stdout",
     "text": [
      "[  4.18    4.819  -9.978 -13.139  -4.276  -3.798  -4.161  -1.521  -8.7\n",
      "   4.6    -7.528  -5.548  -2.885   1.552  -1.165   3.906   4.87   -5.662\n",
      "  -3.008   7.088   3.271   2.408   7.962   5.23   -0.354   1.878   1.448\n",
      "  -3.372   0.337   5.262   7.38    0.817  -8.489  -0.073]\n"
     ]
    }
   ],
   "metadata": {}
  },
  {
   "cell_type": "code",
   "execution_count": 30,
   "source": [
    "#Program 6 \"Compute Mean Median standard deviation of an array\"\r\n",
    "print(\"Mean of:\",arr, \"is\",np.mean(arr))\r\n",
    "print(\"Median of \",arr,\" is \", np.median(arr))\r\n",
    "print(\"Standard deviation of \",arr,\" is \", np.std(arr))\r\n"
   ],
   "outputs": [
    {
     "output_type": "stream",
     "name": "stdout",
     "text": [
      "Mean of: [  2   4 889  66   8  10  12] is 141.57142857142858\n",
      "Median of  [  2   4 889  66   8  10  12]  is  10.0\n",
      "Standard deviation of  [  2   4 889  66   8  10  12]  is  305.8262144901705\n"
     ]
    }
   ],
   "metadata": {}
  },
  {
   "cell_type": "code",
   "execution_count": null,
   "source": [],
   "outputs": [],
   "metadata": {}
  },
  {
   "cell_type": "code",
   "execution_count": null,
   "source": [],
   "outputs": [],
   "metadata": {}
  }
 ],
 "metadata": {
  "kernelspec": {
   "name": "python3",
   "display_name": "Python 3.9.6 64-bit"
  },
  "language_info": {
   "codemirror_mode": {
    "name": "ipython",
    "version": 3
   },
   "file_extension": ".py",
   "mimetype": "text/x-python",
   "name": "python",
   "nbconvert_exporter": "python",
   "pygments_lexer": "ipython3",
   "version": "3.9.6"
  },
  "interpreter": {
   "hash": "daebb6d60f4f3e8ad2c668f168acef0dcea5cdc0e214bcc4d394ef2164512d20"
  }
 },
 "nbformat": 4,
 "nbformat_minor": 5
}