{
 "cells": [
  {
   "cell_type": "code",
   "execution_count": 1,
   "source": [
    "import numpy as np \r\n",
    "import pandas as pd"
   ],
   "outputs": [],
   "metadata": {}
  },
  {
   "cell_type": "code",
   "execution_count": 2,
   "source": [
    "#Program 1  \"Create a 3 x 3 numpy array of all True (Boolean)\"\r\n",
    "arr3x3 = np.ones((3,3),dtype=bool)\r\n",
    "print(arr3x3)"
   ],
   "outputs": [
    {
     "output_type": "stream",
     "name": "stdout",
     "text": [
      "[[ True  True  True]\n",
      " [ True  True  True]\n",
      " [ True  True  True]]\n"
     ]
    }
   ],
   "metadata": {}
  },
  {
   "cell_type": "code",
   "execution_count": 3,
   "source": [
    "#Program 2 \"Get the common items from arr1 and arr2\"\r\n",
    "\r\n",
    "arr1 = np.array([1,2,4,6,8,95,3])\r\n",
    "arr2 = np.array([5,78,6,1,7,5,3])\r\n",
    "\r\n",
    "intersection = np.intersect1d(arr1,arr2)\r\n",
    "print(\"Intesection : \",intersection)\r\n"
   ],
   "outputs": [
    {
     "output_type": "stream",
     "name": "stdout",
     "text": [
      "Intesection :  [1 3 6]\n"
     ]
    }
   ],
   "metadata": {}
  },
  {
   "cell_type": "code",
   "execution_count": 4,
   "source": [
    "#Program 3 \"Swap Rows 1 and 2 in the array\"\r\n",
    "arr2D = np.random.randint(1,10,size=(3,5))\r\n",
    "print(\"Before swapping 0th and 1st row \\n\",arr2D)\r\n",
    "arr2D[[0,1]] = arr2D[[1,0]]\r\n",
    "print(\"After swapping 0th and 1st row : \\n\",arr2D)"
   ],
   "outputs": [
    {
     "output_type": "stream",
     "name": "stdout",
     "text": [
      "Before swapping 0th and 1st row \n",
      " [[1 1 5 1 6]\n",
      " [9 7 5 3 8]\n",
      " [5 5 7 5 8]]\n",
      "After swapping 0th and 1st row : \n",
      " [[9 7 5 3 8]\n",
      " [1 1 5 1 6]\n",
      " [5 5 7 5 8]]\n"
     ]
    }
   ],
   "metadata": {}
  },
  {
   "cell_type": "code",
   "execution_count": 5,
   "source": [
    "#Program 4 \" Reverse the columns of a 2D array \"\r\n",
    "import numpy as np\r\n",
    "arr=np.array([2,4,889,66,8,10,12])\r\n",
    "print(\"Array before Reversing  : \\n\",arr)\r\n",
    "print(arr)\r\n",
    "rev=np.flip(arr)\r\n",
    "print(\"Array after swapping columns : \\n\",rev)"
   ],
   "outputs": [
    {
     "output_type": "stream",
     "name": "stdout",
     "text": [
      "Array before Reversing  : \n",
      " [  2   4 889  66   8  10  12]\n",
      "[  2   4 889  66   8  10  12]\n",
      "Array after swapping columns : \n",
      " [ 12  10   8  66 889   4   2]\n"
     ]
    }
   ],
   "metadata": {}
  },
  {
   "cell_type": "code",
   "execution_count": 6,
   "source": [
    "#program 5 (show only 3 decimal places numpy array )\r\n",
    "num=np.round(np.random.normal(0.121,4.567,10),3)\r\n",
    "print(num)"
   ],
   "outputs": [
    {
     "output_type": "stream",
     "name": "stdout",
     "text": [
      "[-1.301  2.827 -2.295  1.023 -0.539  6.051  0.716  7.837  5.984 -0.329]\n"
     ]
    }
   ],
   "metadata": {}
  },
  {
   "cell_type": "code",
   "execution_count": 7,
   "source": [
    "#Program 6 \"Compute Mean Median standard deviation of an array\"\r\n",
    "print(\"Mean of:\",arr, \"is\",np.mean(arr))\r\n",
    "print(\"Median of \",arr,\" is \", np.median(arr))\r\n",
    "print(\"Standard deviation of \",arr,\" is \", np.std(arr))\r\n"
   ],
   "outputs": [
    {
     "output_type": "stream",
     "name": "stdout",
     "text": [
      "Mean of: [  2   4 889  66   8  10  12] is 141.57142857142858\n",
      "Median of  [  2   4 889  66   8  10  12]  is  10.0\n",
      "Standard deviation of  [  2   4 889  66   8  10  12]  is  305.8262144901705\n"
     ]
    }
   ],
   "metadata": {}
  },
  {
   "cell_type": "code",
   "execution_count": 9,
   "source": [
    "users = pd.read_csv(r\"C:\\Users\\om\\Downloads\\username.csv\",sep=\";\",index_col=0)\r\n",
    "print(users)\r\n"
   ],
   "outputs": [
    {
     "output_type": "stream",
     "name": "stdout",
     "text": [
      "            Identifier First name Last name\n",
      "Username                                   \n",
      "booker12          9012     Rachel    Booker\n",
      "grey07            2070      Laura      Grey\n",
      "johnson81         4081      Craig   Johnson\n",
      "jenkins46         9346       Mary   Jenkins\n",
      "smith79           5079      Jamie     Smith\n"
     ]
    }
   ],
   "metadata": {}
  },
  {
   "cell_type": "code",
   "execution_count": null,
   "source": [],
   "outputs": [],
   "metadata": {}
  },
  {
   "cell_type": "code",
   "execution_count": null,
   "source": [],
   "outputs": [],
   "metadata": {}
  }
 ],
 "metadata": {
  "interpreter": {
   "hash": "daebb6d60f4f3e8ad2c668f168acef0dcea5cdc0e214bcc4d394ef2164512d20"
  },
  "kernelspec": {
   "name": "python3",
   "display_name": "Python 3.9.6 64-bit"
  },
  "language_info": {
   "codemirror_mode": {
    "name": "ipython",
    "version": 3
   },
   "file_extension": ".py",
   "mimetype": "text/x-python",
   "name": "python",
   "nbconvert_exporter": "python",
   "pygments_lexer": "ipython3",
   "version": "3.9.6"
  }
 },
 "nbformat": 4,
 "nbformat_minor": 5
}